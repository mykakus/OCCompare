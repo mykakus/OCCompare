{
 "cells": [
  {
   "cell_type": "code",
   "execution_count": 1,
   "id": "665c237b",
   "metadata": {},
   "outputs": [],
   "source": [
    "import trimesh\n",
    "import numpy as np\n",
    "import copy\n",
    "import igl\n",
    "import os\n",
    "import k3d"
   ]
  },
  {
   "cell_type": "markdown",
   "id": "e8df525a-9744-4733-bece-fed4a964f544",
   "metadata": {},
   "source": [
    "# Parameters to adjust"
   ]
  },
  {
   "cell_type": "code",
   "execution_count": 2,
   "id": "734d0e7f",
   "metadata": {},
   "outputs": [],
   "source": [
    "# Change contact range in your desire\n",
    "Contac_parameter={\n",
    "    \"Contact_detected\":0.04,  # contact detected\n",
    "    \"Good_contact\":-0.015, \n",
    "    \"Bad_contact\":-0.05}    \n",
    "\n",
    "# Change directory names\n",
    "Dir_UPPER='UPPER_dir' # directory contains maxilla models. File names should follow a numbering format such as 1.stl, 2.stl, etc.\n",
    "Dir_LOWER='LOWER_dir' # The directory contains mandibula models. File names should follow a numbering format such as 1.stl, 2.stl, etc."
   ]
  },
  {
   "cell_type": "markdown",
   "id": "84b5e954-1161-4125-8ab1-ebd5dba8256a",
   "metadata": {},
   "source": [
    "# Main"
   ]
  },
  {
   "cell_type": "code",
   "execution_count": 13,
   "id": "61f0fcc3",
   "metadata": {},
   "outputs": [
    {
     "name": "stdout",
     "output_type": "stream",
     "text": [
      "----0 file ----\n",
      "All contact area: 187.0 mm²\n",
      "Good contact (green): 33.0 mm²\n",
      "Bad contact (red): 123.0 mm²\n",
      "Intermediate contact (orange): 31.0 mm²\n"
     ]
    },
    {
     "name": "stderr",
     "output_type": "stream",
     "text": [
      "/opt/venv/lib/python3.12/site-packages/traittypes/traittypes.py:97: UserWarning: Given trait value dtype \"float64\" does not match required type \"float32\". A coerced copy has been created.\n",
      "  warnings.warn(\n",
      "/opt/venv/lib/python3.12/site-packages/traittypes/traittypes.py:97: UserWarning: Given trait value dtype \"int64\" does not match required type \"uint32\". A coerced copy has been created.\n",
      "  warnings.warn(\n"
     ]
    },
    {
     "data": {
      "application/vnd.jupyter.widget-view+json": {
       "model_id": "7f9ddcaee95545a298d09c4a626d8419",
       "version_major": 2,
       "version_minor": 0
      },
      "text/plain": [
       "Output()"
      ]
     },
     "metadata": {},
     "output_type": "display_data"
    }
   ],
   "source": [
    "Dir_UPPER_list=os.listdir(Dir_UPPER)\n",
    "Dir_LOWER_list=os.listdir(Dir_LOWER)\n",
    "\n",
    "for upper,lower in zip(Dir_UPPER_list,Dir_LOWER_list):\n",
    "    Up=trimesh.load(os.path.join(Dir_UPPER,upper)) \n",
    "    Lo=trimesh.load(os.path.join(Dir_LOWER,lower))\n",
    "    \n",
    "    Lo_OG=copy.copy(Lo)\n",
    "    Up_OG=copy.copy(Up)\n",
    "    \n",
    "    #---- Initial segmentation\n",
    "    SDsDF_uper, _, _ = igl.signed_distance(Up.vertices.astype(float), Lo.vertices.astype(float), Lo.faces.astype(int))\n",
    "    SDsDF_uper = np.where(SDsDF_uper < Contac_parameter[\"Contact_detected\"])\n",
    "\n",
    "    #----Sample initial\n",
    "    Up.update_faces(np.unique(Up.vertex_faces[SDsDF_uper[0]])[1:])\n",
    "    Up.remove_unreferenced_vertices()\n",
    "    \n",
    "    initial_sample=abs(Contac_parameter[\"Contact_detected\"])/2\n",
    "    select_sample=(initial_sample)**2\n",
    "    Sample_size=int(Up.area/(select_sample))\n",
    "    \n",
    "    Up_sample,face_index=trimesh.sample.sample_surface_even(Up,Sample_size)\n",
    "    Up_sampes_normals=Up.face_normals[face_index]\n",
    "    \n",
    "    #----Refine found samples\n",
    "    SDsDF_uper, _, _ = igl.signed_distance(Up_sample.astype(float), Lo.vertices.astype(float), Lo.faces.astype(int))\n",
    "    Up_sample=Up_sample[np.where(SDsDF_uper <= Contac_parameter[\"Contact_detected\"]),:][0]\n",
    "    Up_sampes_normals=Up_sampes_normals[np.where(SDsDF_uper <= Contac_parameter[\"Contact_detected\"]),:][0]\n",
    "    \n",
    "    SDsDF_uper=SDsDF_uper[np.where(SDsDF_uper <= Contac_parameter[\"Contact_detected\"])]\n",
    "    \n",
    "    SDsDF_uper_OG=copy.deepcopy(SDsDF_uper)\n",
    "    \n",
    "    SDsDF_uper_colors = np.zeros(SDsDF_uper.shape[0], dtype=np.int8)\n",
    "    SDsDF_uper_colors[(SDsDF_uper >= Contac_parameter[\"Bad_contact\"]) & (SDsDF_uper <  Contac_parameter[\"Good_contact\"])] = 1  \n",
    "    SDsDF_uper_colors[SDsDF_uper >= Contac_parameter[\"Good_contact\"]] = 2   \n",
    "    \n",
    "    # ---- Stats\n",
    "    Area_all=((Up.area*Up_sample.shape[0])/Sample_size).round(0)\n",
    "    Threshold_Good_contac=((Up.area*np.where(SDsDF_uper > Contac_parameter[\"Good_contact\"])[0].shape[0])/Sample_size).round(0)\n",
    "    Threshold_Bad_contac=((Up.area*np.where(SDsDF_uper < Contac_parameter[\"Bad_contact\"])[0].shape[0])/Sample_size).round(0)\n",
    "    \n",
    "    # colors\n",
    "    palette = {0: 0xFF0000, 1: 0xFFA500, 2: 0x00FF00}\n",
    "    \n",
    "    labels = SDsDF_uper_colors.astype(int)\n",
    "    colors = np.array([palette[val] for val in labels], dtype=np.uint32)\n",
    "\n",
    "    print('----'+upper[0].split('.')[0]+' file ----')\n",
    "    print(f\"All contact area: {Area_all} mm²\")\n",
    "    print(f\"Good contact (green): {Threshold_Good_contac} mm²\")\n",
    "    print(f\"Bad contact (red): {Threshold_Bad_contac} mm²\")\n",
    "    print(f\"Intermediate contact (orange): {(Area_all-Threshold_Good_contac-Threshold_Bad_contac).round(0)} mm²\")\n",
    "    \n",
    "    # --- Plot results---\n",
    "    plot = k3d.plot(grid_visible=False, background_color=0xFFFFFF)\n",
    "    k3d_mesh = k3d.mesh(Up_OG.vertices, Up_OG.faces, color=0xCCCCCC, wireframe=False, opacity=1.0, flat_shading=False)\n",
    "    k3d_points = k3d.points(Up_sample, point_size=0.05, colors=colors)\n",
    "    plot += k3d_mesh\n",
    "    plot += k3d_points\n",
    "    plot.display()"
   ]
  },
  {
   "cell_type": "code",
   "execution_count": null,
   "id": "e17ac0a2-ca62-47ab-a9c9-6c93ce7fb338",
   "metadata": {},
   "outputs": [],
   "source": []
  }
 ],
 "metadata": {
  "kernelspec": {
   "display_name": "Python 3 (ipykernel)",
   "language": "python",
   "name": "python3"
  },
  "language_info": {
   "codemirror_mode": {
    "name": "ipython",
    "version": 3
   },
   "file_extension": ".py",
   "mimetype": "text/x-python",
   "name": "python",
   "nbconvert_exporter": "python",
   "pygments_lexer": "ipython3",
   "version": "3.12.3"
  }
 },
 "nbformat": 4,
 "nbformat_minor": 5
}
